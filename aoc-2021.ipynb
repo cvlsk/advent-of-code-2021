{
 "cells": [
  {
   "cell_type": "code",
   "execution_count": 172,
   "metadata": {},
   "outputs": [
    {
     "name": "stdout",
     "output_type": "stream",
     "text": [
      "1226 1252\n"
     ]
    }
   ],
   "source": [
    "# Day 1: Sonar Sweep\n",
    "\n",
    "inc1,inc2=0,0\n",
    "\n",
    "with open('data/day1-input.txt') as f:\n",
    "    lines=f.readlines()\n",
    "    for i in range(len(lines)):\n",
    "        if i+1 != len(lines):\n",
    "            if int(lines[i+1])>int(lines[i]):\n",
    "                inc1+=1\n",
    "    for i in range(len(lines)):\n",
    "        prevsum=int(lines[i])+int(lines[i+1])+int(lines[i+2])\n",
    "        if i == len(lines)-3:\n",
    "            break\n",
    "        else:\n",
    "            s=int(lines[i+3])+int(lines[i+1])+int(lines[i+2])\n",
    "            if s>prevsum:\n",
    "                inc2+=1\n",
    "\n",
    "print(inc1,inc2)\n"
   ]
  },
  {
   "cell_type": "code",
   "execution_count": 173,
   "metadata": {},
   "outputs": [
    {
     "name": "stdout",
     "output_type": "stream",
     "text": [
      "1580000 1251263225\n"
     ]
    }
   ],
   "source": [
    "# Day 2: Dive!\n",
    "\n",
    "aim,depth,x,y=0,0,0,0\n",
    "\n",
    "with open('data/day2-input.txt') as f:\n",
    "    for line in f:\n",
    "        move=line.strip().split()\n",
    "        if move[0]=='up':\n",
    "            y-=int(move[1])\n",
    "            aim-=int(move[1])\n",
    "        elif move[0]=='down':\n",
    "            y+=int(move[1])\n",
    "            aim+=int(move[1])\n",
    "        elif move[0]=='forward':\n",
    "            x+=int(move[1])\n",
    "            depth+=aim*int(move[1])\n",
    "\n",
    "print(x*y,x*depth)\n"
   ]
  },
  {
   "cell_type": "code",
   "execution_count": 174,
   "metadata": {},
   "outputs": [
    {
     "name": "stdout",
     "output_type": "stream",
     "text": [
      "power: 1540244\n",
      "life: 4203981\n"
     ]
    }
   ],
   "source": [
    "# Day 3: Binary Diagnostic\n",
    "\n",
    "def binaryToDecimal(n, exp = 1):\n",
    "    if n == 0:\n",
    "        return 0\n",
    "    rem = n%10\n",
    "    rem = rem*exp\n",
    "    return rem + binaryToDecimal(n//10,exp*2)\n",
    "\n",
    "def oxy(pos,list):\n",
    "    bc={'0':0,'1':0}\n",
    "    for num in list:\n",
    "        bc[num[pos]]+=1\n",
    "    if bc['0'] > bc['1']:\n",
    "        maxBit='0'\n",
    "    else: \n",
    "        maxBit='1'\n",
    "    temp=[]\n",
    "    for item in list:\n",
    "        if item[pos]==maxBit:\n",
    "            temp.append(item)\n",
    "    if len(temp)==1:\n",
    "        return temp[0]\n",
    "    else:\n",
    "        return oxy(pos+1,temp)\n",
    "\n",
    "def carbon(pos,list):\n",
    "    bc={'0':0,'1':0}\n",
    "    for num in list:\n",
    "        bc[num[pos]]+=1\n",
    "    if bc['1'] >= bc['0']:\n",
    "        minBit='0'\n",
    "    else: \n",
    "        minBit='1'\n",
    "    temp=[]\n",
    "    for item in list:\n",
    "        if item[pos]==minBit:\n",
    "            temp.append(item)\n",
    "    if len(temp)==1:\n",
    "        return temp[0]\n",
    "    else:\n",
    "        return carbon(pos+1,temp)\n",
    "\n",
    "def power(lines):\n",
    "    g,e='',''\n",
    "    for pos in range(len(lines[0])):\n",
    "        bc={'0':0, '1':0}\n",
    "        for item in lines:\n",
    "            bc[item[pos]]+=1\n",
    "        if bc['0']>bc['1']:\n",
    "            g+='0'\n",
    "            e+='1'\n",
    "        else:\n",
    "            g+='1'\n",
    "            e+='0'\n",
    "    return binaryToDecimal(int(g))*binaryToDecimal(int(e))\n",
    "\n",
    "def life(lines):\n",
    "    return binaryToDecimal(int(oxy(0,lines)))*binaryToDecimal(int(carbon(0,lines)))\n",
    "\n",
    "with open('data/day3-input.txt') as f:\n",
    "    file=f.readlines()\n",
    "\n",
    "lines=[]\n",
    "for line in file:\n",
    "    lines.append(line.strip('\\n'))\n",
    "\n",
    "print(\"power:\",power(lines))\n",
    "print(\"life:\",life(lines))\n"
   ]
  },
  {
   "cell_type": "code",
   "execution_count": 175,
   "metadata": {},
   "outputs": [
    {
     "name": "stdout",
     "output_type": "stream",
     "text": [
      "winner: 89 14\n",
      "unmarked*num: 10374\n"
     ]
    }
   ],
   "source": [
    "# Day 4: Giant Squid\n",
    "\n",
    "def play(boards, num):\n",
    "    for board in boards.values():\n",
    "        for row in board:\n",
    "            if num in row:\n",
    "                row[row.index(num)] = -1\n",
    "    return boards\n",
    "\n",
    "def checkWin(boards):\n",
    "    row=set()\n",
    "    col=set()\n",
    "    unmarkedsum=0\n",
    "    for k,board in boards.items():\n",
    "        #print(k,board)\n",
    "        for r in range(5):\n",
    "            for c in range(5):\n",
    "                col.add(board[c][r])\n",
    "                row.add(board[r][c])\n",
    "            if len(row)==1 or len(col)==1:\n",
    "                #print(board)\n",
    "                unmarkedsum+=sum([sum([item for item in row if item!=-1]) for row in board])\n",
    "                return True, k, unmarkedsum\n",
    "            else:\n",
    "                row=set()\n",
    "                col=set()\n",
    "    return False, None, None\n",
    "\n",
    "first,second=True,True\n",
    "nums=[]\n",
    "boards={}\n",
    "b,c=1,0\n",
    "board=[[0]*5]*5\n",
    "\n",
    "with open('data/day4-input.txt') as f:\n",
    "    for line in f:\n",
    "        if first:\n",
    "            nums=[int(n) for n in line.strip('\\n').split(',')] # add play nums\n",
    "            first=False\n",
    "        elif second:\n",
    "            second=False # ignore second line \n",
    "            continue\n",
    "        else:\n",
    "            if line != '\\n':\n",
    "                row=line.strip('\\n').split()\n",
    "                board[c]=[int(n) for n in row]\n",
    "                #print(c,board)\n",
    "                c+=1\n",
    "            else:\n",
    "                boards[b]=board\n",
    "                board=[[0]*5]*5\n",
    "                c=0\n",
    "                b+=1\n",
    "            boards[b]=board # add final board\n",
    "\n",
    "#print(nums)\n",
    "#print(boards)\n",
    "\n",
    "while len(nums)>0:\n",
    "    num=nums.pop(0)\n",
    "    boards=play(boards, num)\n",
    "    win, winner, unmarkedsum=checkWin(boards)\n",
    "    if win:\n",
    "        #print(boards.pop(winner))\n",
    "        print(\"winner:\",winner, num)\n",
    "        print(\"unmarked*num:\",unmarkedsum*num) # type: ignore\n",
    "        break\n"
   ]
  }
 ],
 "metadata": {
  "kernelspec": {
   "display_name": "Python 3.8.5 ('base')",
   "language": "python",
   "name": "python3"
  },
  "language_info": {
   "codemirror_mode": {
    "name": "ipython",
    "version": 3
   },
   "file_extension": ".py",
   "mimetype": "text/x-python",
   "name": "python",
   "nbconvert_exporter": "python",
   "pygments_lexer": "ipython3",
   "version": "3.8.5"
  },
  "orig_nbformat": 4,
  "vscode": {
   "interpreter": {
    "hash": "40d3a090f54c6569ab1632332b64b2c03c39dcf918b08424e98f38b5ae0af88f"
   }
  }
 },
 "nbformat": 4,
 "nbformat_minor": 2
}
