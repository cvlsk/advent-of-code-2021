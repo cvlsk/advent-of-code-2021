{
 "cells": [
  {
   "cell_type": "code",
   "execution_count": 49,
   "metadata": {},
   "outputs": [
    {
     "name": "stdout",
     "output_type": "stream",
     "text": [
      "1226 1252\n"
     ]
    }
   ],
   "source": [
    "# Day 1: Sonar Sweep\n",
    "\n",
    "inc1,inc2=0,0\n",
    "\n",
    "with open('data/day1-input.txt') as f:\n",
    "    lines=f.readlines()\n",
    "    for i in range(len(lines)):\n",
    "        if i+1 != len(lines):\n",
    "            if int(lines[i+1])>int(lines[i]):\n",
    "                inc1+=1\n",
    "    for i in range(len(lines)):\n",
    "        prevsum=int(lines[i])+int(lines[i+1])+int(lines[i+2])\n",
    "        if i == len(lines)-3:\n",
    "            break\n",
    "        else:\n",
    "            sum=int(lines[i+3])+int(lines[i+1])+int(lines[i+2])\n",
    "            if sum>prevsum:\n",
    "                inc2+=1\n",
    "\n",
    "print(inc1,inc2)\n"
   ]
  },
  {
   "cell_type": "code",
   "execution_count": 54,
   "metadata": {},
   "outputs": [
    {
     "name": "stdout",
     "output_type": "stream",
     "text": [
      "1580000 1251263225\n"
     ]
    }
   ],
   "source": [
    "# Day 2: Dive!\n",
    "\n",
    "aim,depth,x,y=0,0,0,0\n",
    "\n",
    "with open('data/day2-input.txt') as f:\n",
    "    for line in f:\n",
    "        move=line.strip().split()\n",
    "        if move[0]=='up':\n",
    "            y-=int(move[1])\n",
    "            aim-=int(move[1])\n",
    "        elif move[0]=='down':\n",
    "            y+=int(move[1])\n",
    "            aim+=int(move[1])\n",
    "        elif move[0]=='forward':\n",
    "            x+=int(move[1])\n",
    "            depth+=aim*int(move[1])\n",
    "\n",
    "print(x*y,x*depth)\n"
   ]
  },
  {
   "cell_type": "code",
   "execution_count": 71,
   "metadata": {},
   "outputs": [
    {
     "name": "stdout",
     "output_type": "stream",
     "text": [
      "1540244\n"
     ]
    }
   ],
   "source": [
    "# Day 3: Binary Diagnostic\n",
    "\n",
    "def binaryTodecimal(n, exp = 1):\n",
    "    if n == 0:\n",
    "        return 0\n",
    "    rem = n%10\n",
    "    rem = rem*exp\n",
    "    return rem + binaryTodecimal(n//10,exp*2)\n",
    "\n",
    "with open('data/day3-input.txt') as f:\n",
    "    lines=f.readlines()\n",
    "    g,e='',''\n",
    "    for pos in range(len(lines[0].strip('\\n'))):\n",
    "        bitcount={'0':0, '1':0}\n",
    "        for item in lines:\n",
    "            bitcount[item.strip('\\n')[pos]]+=1\n",
    "        if bitcount['0']>bitcount['1']:\n",
    "            g+='0'\n",
    "            e+='1'\n",
    "        else:\n",
    "            g+='1'\n",
    "            e+='0'\n",
    "\n",
    "print(binaryTodecimal(int(g))*binaryTodecimal(int(e)))\n",
    "\n"
   ]
  }
 ],
 "metadata": {
  "kernelspec": {
   "display_name": "Python 3.8.5 ('base')",
   "language": "python",
   "name": "python3"
  },
  "language_info": {
   "codemirror_mode": {
    "name": "ipython",
    "version": 3
   },
   "file_extension": ".py",
   "mimetype": "text/x-python",
   "name": "python",
   "nbconvert_exporter": "python",
   "pygments_lexer": "ipython3",
   "version": "3.8.5"
  },
  "orig_nbformat": 4,
  "vscode": {
   "interpreter": {
    "hash": "40d3a090f54c6569ab1632332b64b2c03c39dcf918b08424e98f38b5ae0af88f"
   }
  }
 },
 "nbformat": 4,
 "nbformat_minor": 2
}
